{
 "cells": [
  {
   "cell_type": "code",
   "execution_count": 1,
   "metadata": {
    "collapsed": true
   },
   "outputs": [],
   "source": [
    "import numpy as np\n",
    "import matplotlib.pyplot as plt\n",
    "%matplotlib inline\n",
    "from helpers.SimulationAnalysis import readHlist\n",
    "from fast3tree import fast3tree"
   ]
  },
  {
   "cell_type": "code",
   "execution_count": 185,
   "metadata": {
    "collapsed": false
   },
   "outputs": [],
   "source": [
    "\n",
    "#halos = readHlist('/u/ki/yymao/ki21/sham_test/resolution-test/c250-128/rockstar/hlists/hlist_1.00000.list'\n",
    "#                  , ['mvir', 'x', 'y', 'z','rvir','rs'])\n",
    "\n",
    "halos = readHlist('/u/ki/yymao/ki21/sham_test/resolution-test/c250-512/rockstar/hlists/hlist_1.00000.list',\\\n",
    "                 ['mvir', 'x', 'y', 'z','rvir','rs'])\n",
    "\n",
    "\n",
    "#with fast3tree(halos1[['x', 'y', 'z']].view((float, 3))) as tree:\n",
    "    # loop over halos\n",
    "        # loop over r \n",
    "#        tree.query_radius(halo_pos, r, output='c')"
   ]
  },
  {
   "cell_type": "code",
   "execution_count": 186,
   "metadata": {
    "collapsed": false
   },
   "outputs": [
    {
     "data": {
      "text/plain": [
       "(array([  4.41400000e+03,   9.23870000e+04,   1.63279000e+05,\n",
       "          6.81490000e+04,   2.60090000e+04,   9.27200000e+03,\n",
       "          2.95400000e+03,   8.33000000e+02,   1.55000000e+02,\n",
       "          2.00000000e+01]),\n",
       " array([ 10.26670197,  10.75682255,  11.24694314,  11.73706372,\n",
       "         12.2271843 ,  12.71730489,  13.20742547,  13.69754606,\n",
       "         14.18766664,  14.67778723,  15.16790781]),\n",
       " <a list of 10 Patch objects>)"
      ]
     },
     "execution_count": 186,
     "metadata": {},
     "output_type": "execute_result"
    },
    {
     "data": {
      "image/png": "[encoded data removed]",
      "text/plain": [
       "<matplotlib.figure.Figure at 0x7f80a9ffe910>"
      ]
     },
     "metadata": {},
     "output_type": "display_data"
    }
   ],
   "source": [
    "m = halos['mvir']\n",
    "plt.hist(np.log10(m))"
   ]
  },
  {
   "cell_type": "code",
   "execution_count": 187,
   "metadata": {
    "collapsed": false
   },
   "outputs": [],
   "source": [
    "rbins = np.logspace(0, 1.5, 16)\n",
    "def count_pairs(halos, m_cut, rbins = rbins):\n",
    "    box_size = 250.\n",
    "    halos_cut = halos[halos['mvir'] >= m_cut]\n",
    "    loc = halos_cut[['x','y','z']].view(('float',3))\n",
    "\n",
    "    with fast3tree(loc) as tree:\n",
    "        pairs_cumulative = np.zeros_like(rbins)\n",
    "        tree.set_boundaries(0, box_size)\n",
    "        for p in loc:\n",
    "            for i, r in enumerate(rbins):\n",
    "                pairs_cumulative[i] += tree.query_radius(p, r, periodic=True, output='c')\n",
    "    pairs = np.ediff1d(pairs_cumulative)\n",
    "    return pairs\n",
    "\n",
    "def count_random_pairs(m_cut, box_size = 250):\n",
    "    N = len(halos[['x','y','z']][halos['mvir'] >= m_cut ])\n",
    "    nhalos = N/float(box_size)**3\n",
    "    random = N*nhalos*np.ediff1d(4*np.pi/3.*rbins**3)\n",
    "    return random"
   ]
  },
  {
   "cell_type": "code",
   "execution_count": 188,
   "metadata": {
    "collapsed": false
   },
   "outputs": [],
   "source": [
    "pairs13 = count_pairs(halos, 10**13, rbins)\n",
    "pairs12 = count_pairs(halos, 10**12, rbins)"
   ]
  },
  {
   "cell_type": "code",
   "execution_count": 189,
   "metadata": {
    "collapsed": true
   },
   "outputs": [],
   "source": [
    "pairs14 = count_pairs(halos, 10**14, rbins)"
   ]
  },
  {
   "cell_type": "code",
   "execution_count": 190,
   "metadata": {
    "collapsed": false
   },
   "outputs": [],
   "source": [
    "random13 = count_random_pairs(10**13, 250)\n",
    "random12 = count_random_pairs(10**12, 250)\n",
    "random14 = count_random_pairs(10**14, 250)"
   ]
  },
  {
   "cell_type": "code",
   "execution_count": 191,
   "metadata": {
    "collapsed": false
   },
   "outputs": [
    {
     "data": {
      "text/plain": [
       "[<matplotlib.lines.Line2D at 0x7f80a898bd50>]"
      ]
     },
     "execution_count": 191,
     "metadata": {},
     "output_type": "execute_result"
    },
    {
     "data": {
      "image/png": "[encoded data removed]",
      "text/plain": [
       "<matplotlib.figure.Figure at 0x7f80aa3abfd0>"
      ]
     },
     "metadata": {},
     "output_type": "display_data"
    }
   ],
   "source": [
    "plt.plot(np.log10(rbins[1:]), pairs14/ random14)\n",
    "plt.plot(np.log10(rbins[1:]), pairs13/ random13)\n",
    "plt.plot(np.log10(rbins[1:]), pairs12/ random12)"
   ]
  },
  {
   "cell_type": "markdown",
   "metadata": {},
   "source": [
    "#### different mass cutoffs"
   ]
  },
  {
   "cell_type": "code",
   "execution_count": 143,
   "metadata": {
    "collapsed": false
   },
   "outputs": [],
   "source": [
    "rbins = np.logspace(0, 1.5, 16)\n",
    "m_cut = np.logspace(12,14,5)\n",
    "pairs_list = np.array([count_pairs(halos,m) for m in m_cut])\n",
    "random_pairs_list = np.array([count_random_pairs(m) for m in m_cut])"
   ]
  },
  {
   "cell_type": "code",
   "execution_count": 145,
   "metadata": {
    "collapsed": false
   },
   "outputs": [],
   "source": [
    "xi_list = pairs_list/ random_pairs_list"
   ]
  },
  {
   "cell_type": "code",
   "execution_count": 167,
   "metadata": {
    "collapsed": false
   },
   "outputs": [
    {
     "data": {
      "text/plain": [
       "<matplotlib.legend.Legend at 0x7f65fb892890>"
      ]
     },
     "execution_count": 167,
     "metadata": {},
     "output_type": "execute_result"
    },
    {
     "data": {
      "image/png": "[encoded data removed]",
      "text/plain": [
       "<matplotlib.figure.Figure at 0x7f65fb8920d0>"
      ]
     },
     "metadata": {},
     "output_type": "display_data"
    }
   ],
   "source": [
    "rcen = [(rbins[i] + rbins[i+1])/2  for i in range(len(rbins)-1)]\n",
    "for i in range(len(xi_list)):\n",
    "    plt.plot(rcen, np.log10(xi_list[i]), label = m_cut[i])\n",
    "plt.legend()"
   ]
  },
  {
   "cell_type": "markdown",
   "metadata": {
    "collapsed": true
   },
   "source": [
    "#### Investigate how concentration relates to correlation"
   ]
  },
  {
   "cell_type": "code",
   "execution_count": 331,
   "metadata": {
    "collapsed": false
   },
   "outputs": [],
   "source": [
    "halos = readHlist('/u/ki/yymao/ki21/sham_test/resolution-test/c250-320/rockstar/hlists/hlist_1.00000.list',\\\n",
    "                 ['mvir', 'x', 'y', 'z','rvir','rs'])"
   ]
  },
  {
   "cell_type": "code",
   "execution_count": 332,
   "metadata": {
    "collapsed": false
   },
   "outputs": [
    {
     "data": {
      "text/plain": [
       "array([ 1.        ,  3.16227766])"
      ]
     },
     "execution_count": 332,
     "metadata": {},
     "output_type": "execute_result"
    }
   ],
   "source": [
    "rbins"
   ]
  },
  {
   "cell_type": "code",
   "execution_count": 333,
   "metadata": {
    "collapsed": true
   },
   "outputs": [],
   "source": [
    "rbins = np.logspace(0.0, 0.5, 2)\n",
    "def count_pairs(halos, m_min, m_max = 10**16, rbins = rbins):\n",
    "    box_size = 250.\n",
    "    halos_cut = halos[np.logical_and(halos['mvir'] >= m_min, halos['mvir'] < m_max)]\n",
    "    loc = halos_cut[['x','y','z']].view(('float',3))\n",
    "    with fast3tree(loc) as tree:\n",
    "        pairs_cumulative = np.zeros_like(rbins)\n",
    "        tree.set_boundaries(0, box_size)\n",
    "        for p in loc:\n",
    "            for i, r in enumerate(rbins):\n",
    "                pairs_cumulative[i] += tree.query_radius(p, r, periodic=True, output='c')\n",
    "    pairs = np.ediff1d(pairs_cumulative)\n",
    "    return pairs\n",
    "\n",
    "def count_random_pairs(halos, m_min, m_max = 10**16,  box_size = 250):\n",
    "    N = len(halos[np.logical_and(halos['mvir'] >= m_min, halos['mvir'] < m_max)])\n",
    "    nhalos = N/float(box_size)**3\n",
    "    random = N*nhalos*np.ediff1d(4*np.pi/3.*rbins**3)\n",
    "    return random"
   ]
  },
  {
   "cell_type": "code",
   "execution_count": 334,
   "metadata": {
    "collapsed": false
   },
   "outputs": [],
   "source": [
    "c = halos['rvir']/halos['rs']"
   ]
  },
  {
   "cell_type": "code",
   "execution_count": 335,
   "metadata": {
    "collapsed": false
   },
   "outputs": [
    {
     "data": {
      "text/plain": [
       "(array([  1.08900000e+03,   1.13030000e+04,   4.96450000e+04,\n",
       "          2.52620000e+04,   1.08110000e+04,   4.29700000e+03,\n",
       "          1.48100000e+03,   4.29000000e+02,   1.05000000e+02,\n",
       "          1.70000000e+01]),\n",
       " array([ 10.87909588,  11.30684121,  11.73458653,  12.16233186,\n",
       "         12.59007719,  13.01782252,  13.44556784,  13.87331317,\n",
       "         14.3010585 ,  14.72880382,  15.15654915]),\n",
       " <a list of 10 Patch objects>)"
      ]
     },
     "execution_count": 335,
     "metadata": {},
     "output_type": "execute_result"
    },
    {
     "data": {
      "image/png": "[encoded data removed]",
      "text/plain": [
       "<matplotlib.figure.Figure at 0x7f80a74dd510>"
      ]
     },
     "metadata": {},
     "output_type": "display_data"
    }
   ],
   "source": [
    "plt.hist(np.log10(halos['mvir']))"
   ]
  },
  {
   "cell_type": "code",
   "execution_count": 336,
   "metadata": {
    "collapsed": false
   },
   "outputs": [
    {
     "data": {
      "text/plain": [
       "(array([  0.00000000e+00,   4.92000000e+02,   3.56200000e+03,\n",
       "          7.70800000e+03,   9.42500000e+03,   1.04200000e+04,\n",
       "          1.08330000e+04,   1.06500000e+04,   9.86600000e+03,\n",
       "          8.55800000e+03,   7.22500000e+03,   5.83400000e+03,\n",
       "          4.62500000e+03,   3.65500000e+03,   2.78300000e+03,\n",
       "          2.09300000e+03,   1.60400000e+03,   1.19800000e+03,\n",
       "          8.92000000e+02,   6.65000000e+02,   5.30000000e+02,\n",
       "          3.91000000e+02,   3.21000000e+02,   2.46000000e+02,\n",
       "          1.65000000e+02,   1.29000000e+02,   1.17000000e+02,\n",
       "          7.00000000e+01,   7.10000000e+01,   6.20000000e+01,\n",
       "          4.10000000e+01,   3.90000000e+01,   3.20000000e+01,\n",
       "          2.50000000e+01,   1.80000000e+01,   1.20000000e+01,\n",
       "          8.00000000e+00,   1.20000000e+01,   3.00000000e+00,\n",
       "          9.00000000e+00,   1.00000000e+00,   8.00000000e+00,\n",
       "          9.00000000e+00,   5.00000000e+00,   4.00000000e+00,\n",
       "          6.00000000e+00,   0.00000000e+00,   0.00000000e+00,\n",
       "          0.00000000e+00]),\n",
       " array([ 0,  1,  2,  3,  4,  5,  6,  7,  8,  9, 10, 11, 12, 13, 14, 15, 16,\n",
       "        17, 18, 19, 20, 21, 22, 23, 24, 25, 26, 27, 28, 29, 30, 31, 32, 33,\n",
       "        34, 35, 36, 37, 38, 39, 40, 41, 42, 43, 44, 45, 46, 47, 48, 49]),\n",
       " <a list of 49 Patch objects>)"
      ]
     },
     "execution_count": 336,
     "metadata": {},
     "output_type": "execute_result"
    },
    {
     "data": {
      "image/png": "[encoded data removed]",
      "text/plain": [
       "<matplotlib.figure.Figure at 0x7f80a72b9d90>"
      ]
     },
     "metadata": {},
     "output_type": "display_data"
    }
   ],
   "source": [
    "plt.hist(c,range(0,50))"
   ]
  },
  {
   "cell_type": "code",
   "execution_count": 337,
   "metadata": {
    "collapsed": true
   },
   "outputs": [],
   "source": [
    "c_med = halos[np.logical_and(halos['rvir']/halos['rs'] > 5, halos['rvir']/halos['rs'] <= 13)]\n",
    "c_small = halos[halos['rvir']/halos['rs'] <= 5]\n",
    "c_large = halos[halos['rvir']/halos['rs'] > 13]"
   ]
  },
  {
   "cell_type": "code",
   "execution_count": 338,
   "metadata": {
    "collapsed": false
   },
   "outputs": [],
   "source": [
    "mbins = np.logspace(11.5,13,5)"
   ]
  },
  {
   "cell_type": "code",
   "execution_count": 339,
   "metadata": {
    "collapsed": false
   },
   "outputs": [],
   "source": [
    "pair_all_list = np.array([sum(count_pairs(halos, mmin, mmax))  for mmin, mmax in  zip(mbins[:-1], mbins[1:]) ])\n",
    "pair_large_list = np.array([sum(count_pairs(c_large, mmin, mmax))  for mmin, mmax in  zip(mbins[:-1], mbins[1:]) ])\n",
    "pair_small_list = np.array([sum(count_pairs(c_small, mmin, mmax))  for mmin, mmax in  zip(mbins[:-1], mbins[1:]) ])\n",
    "pair_med_list = np.array([sum(count_pairs(c_med, mmin, mmax))  for mmin, mmax in  zip(mbins[:-1], mbins[1:]) ])"
   ]
  },
  {
   "cell_type": "code",
   "execution_count": 340,
   "metadata": {
    "collapsed": false
   },
   "outputs": [],
   "source": [
    "pair_all_random_list = np.array([sum(count_random_pairs(halos, mmin, mmax))  for mmin, mmax in  zip(mbins[:-1], mbins[1:]) ])\n",
    "pair_large_random_list = np.array([sum(count_random_pairs(c_large, mmin, mmax))  for mmin, mmax in  zip(mbins[:-1], mbins[1:]) ])\n",
    "pair_small_random_list = np.array([sum(count_random_pairs(c_small, mmin, mmax))  for mmin, mmax in  zip(mbins[:-1], mbins[1:]) ])\n",
    "pair_med_random_list = np.array([sum(count_random_pairs(c_med, mmin, mmax))  for mmin, mmax in  zip(mbins[:-1], mbins[1:]) ])"
   ]
  },
  {
   "cell_type": "code",
   "execution_count": 341,
   "metadata": {
    "collapsed": false
   },
   "outputs": [
    {
     "data": {
      "text/plain": [
       "array([ 113.66650052,  391.8713696 ,   61.13926603,   12.4200508 ])"
      ]
     },
     "execution_count": 341,
     "metadata": {},
     "output_type": "execute_result"
    }
   ],
   "source": [
    "pair_large_random_list"
   ]
  },
  {
   "cell_type": "code",
   "execution_count": 342,
   "metadata": {
    "collapsed": false
   },
   "outputs": [
    {
     "data": {
      "text/plain": [
       "array([  936.,  2496.,   474.,   162.])"
      ]
     },
     "execution_count": 342,
     "metadata": {},
     "output_type": "execute_result"
    }
   ],
   "source": [
    "pair_large_list"
   ]
  },
  {
   "cell_type": "code",
   "execution_count": 343,
   "metadata": {
    "collapsed": false
   },
   "outputs": [
    {
     "data": {
      "text/plain": [
       "<matplotlib.legend.Legend at 0x7f80a7043950>"
      ]
     },
     "execution_count": 343,
     "metadata": {},
     "output_type": "execute_result"
    },
    {
     "data": {
      "image/png": "[encoded data removed]",
      "text/plain": [
       "<matplotlib.figure.Figure at 0x7f80a711a650>"
      ]
     },
     "metadata": {},
     "output_type": "display_data"
    }
   ],
   "source": [
    "mean = pair_all_list/ pair_all_random_list\n",
    "plt.semilogx(0.5*(mbins[:-1] + mbins[1:]),pair_large_list/ pair_large_random_list/ mean, label='large')\n",
    "plt.semilogx(0.5*(mbins[:-1] + mbins[1:]),pair_med_list/ pair_med_random_list /mean, label='med')\n",
    "plt.semilogx(0.5*(mbins[:-1] + mbins[1:]),pair_small_list/ pair_small_random_list /mean, label='small')\n",
    "plt.legend()"
   ]
  },
  {
   "cell_type": "markdown",
   "metadata": {},
   "source": [
    "## precalculated pair counts"
   ]
  },
  {
   "cell_type": "code",
   "execution_count": 21,
   "metadata": {
    "collapsed": true
   },
   "outputs": [],
   "source": [
    "#load data\n",
    "proxies = ['vpeak', 'vmax', 'mvir', 'macc']\n",
    "cases = ['c250-2048', 'c250-1024', 'c250-768', 'c250-512', \n",
    "         'c400-2048', 'c400-1024', 'c400-768', 'c125-2048-new', 'c125-1024']\n",
    "nd_log_list = np.linspace(-3.3, -1.7, 17)\n",
    "\n",
    "rbins = np.logspace(-1.3, 1.3, 27)\n",
    "\n",
    "_pairs_cache = {}\n",
    "def load_pair_count(proxy, case, nd_log, cumulative=False, fixed_limits=False):\n",
    "    key = (proxy, case, nd_log, 'f' if fixed_limits else 'c')\n",
    "    if key not in _pairs_cache:\n",
    "        _pairs_cache[key] = np.load('/nfs/slac/g/ki/ki06/yymao/resolution_test/pairs_{}/{}_nd{:.1f}_{}.npy'.format(*key)).astype(float)      \n",
    "    return _pairs_cache[key] if cumulative else np.ediff1d(_pairs_cache[key][::2])\n",
    "\n",
    "_nd_limits = {}\n",
    "def load_nd_limits(proxy, case):\n",
    "    key = (proxy, case)\n",
    "    if key not in _nd_limits:\n",
    "        _nd_limits[key] = np.load('/nfs/slac/g/ki/ki06/yymao/resolution_test/pairs_{}/{}_nd_limits.npy'.format(*key))     \n",
    "    return _nd_limits[key]\n",
    "\n",
    "def parse_boxname(boxname):\n",
    "    items = boxname[1:].split('-')\n",
    "    box_size = float(items[0])\n",
    "    npart = int(items[1])\n",
    "    return box_size, npart, (box_size/npart)**3*79379292719.00159\n",
    "\n",
    "def frexp10(x):\n",
    "    e = int('{0:e}'.format(float(x)).partition('e')[-1])\n",
    "    return float(x)/(10.0**e), e\n",
    "\n",
    "def get_converging_r_index(proxy, case, nd_log, per, fixed_limits=False):\n",
    "    p = load_pair_count(proxy, case, nd_log, fixed_limits=fixed_limits)\n",
    "    compared_to = case.partition('-')[0]+'-2048'\n",
    "    if compared_to == 'c125-2048':\n",
    "        compared_to += '-new'\n",
    "    p_2048 = load_pair_count(proxy, compared_to, nd_log, fixed_limits=fixed_limits)\n",
    "    k = np.where(np.fabs(p/p_2048 - 1.0) > per)[0]\n",
    "    return (k[-1] + 1) if len(k) else 0"
   ]
  },
  {
   "cell_type": "code",
   "execution_count": 12,
   "metadata": {
    "collapsed": true
   },
   "outputs": [],
   "source": [
    "test = load_pair_count('mvir', 'c400-768', -3.3)"
   ]
  },
  {
   "cell_type": "code",
   "execution_count": 9,
   "metadata": {
    "collapsed": false
   },
   "outputs": [
    {
     "data": {
      "text/plain": [
       "array([  8.78100000e+12,   7.02100000e+12,   5.58500000e+12,\n",
       "         4.40700000e+12,   3.48800000e+12,   2.74800000e+12,\n",
       "         2.15300000e+12,   1.68200000e+12,   1.30100000e+12,\n",
       "         1.00900000e+12,   7.73800000e+11,   5.94400000e+11,\n",
       "         4.59800000e+11,   3.47700000e+11,   2.58000000e+11,\n",
       "         1.90700000e+11,   2.24300000e+10])"
      ]
     },
     "execution_count": 9,
     "metadata": {},
     "output_type": "execute_result"
    }
   ],
   "source": [
    "load_nd_limits('mvir','c400-768')"
   ]
  },
  {
   "cell_type": "code",
   "execution_count": 10,
   "metadata": {
    "collapsed": true
   },
   "outputs": [],
   "source": [
    "nd_log_list = np.linspace(-3.3, -1.7, 17)"
   ]
  },
  {
   "cell_type": "code",
   "execution_count": 11,
   "metadata": {
    "collapsed": false
   },
   "outputs": [
    {
     "data": {
      "text/plain": [
       "array([-3.3, -3.2, -3.1, -3. , -2.9, -2.8, -2.7, -2.6, -2.5, -2.4, -2.3,\n",
       "       -2.2, -2.1, -2. , -1.9, -1.8, -1.7])"
      ]
     },
     "execution_count": 11,
     "metadata": {},
     "output_type": "execute_result"
    }
   ],
   "source": [
    "nd_log_list"
   ]
  },
  {
   "cell_type": "code",
   "execution_count": 14,
   "metadata": {
    "collapsed": false
   },
   "outputs": [
    {
     "data": {
      "text/plain": [
       "[<matplotlib.lines.Line2D at 0x7f554b0d5790>]"
      ]
     },
     "execution_count": 14,
     "metadata": {},
     "output_type": "execute_result"
    },
    {
     "data": {
      "image/png": "[encoded data removed]",
      "text/plain": [
       "<matplotlib.figure.Figure at 0x7f554b4359d0>"
      ]
     },
     "metadata": {},
     "output_type": "display_data"
    }
   ],
   "source": [
    "plt.plot(test)"
   ]
  },
  {
   "cell_type": "code",
   "execution_count": null,
   "metadata": {
    "collapsed": true
   },
   "outputs": [],
   "source": [
    "N = len(halos[['x','y','z']][halos['mvir'] >= m_cut ])\n",
    "nhalos = N/float(box_size)**3\n",
    "random = N*nhalos*np.ediff1d(4*np.pi/3.*rbins**3)"
   ]
  }
 ],
 "metadata": {
  "kernelspec": {
   "display_name": "Python 2",
   "language": "python",
   "name": "python2"
  },
  "language_info": {
   "codemirror_mode": {
    "name": "ipython",
    "version": 2
   },
   "file_extension": ".py",
   "mimetype": "text/x-python",
   "name": "python",
   "nbconvert_exporter": "python",
   "pygments_lexer": "ipython2",
   "version": "2.7.10"
  }
 },
 "nbformat": 4,
 "nbformat_minor": 0
}
